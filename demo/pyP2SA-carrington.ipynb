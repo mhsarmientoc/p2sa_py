{
 "cells": [
  {
   "cell_type": "markdown",
   "metadata": {},
   "source": [
    "# P2SA - Practical Example 1 - Access and download Carrington movies"
   ]
  },
  {
   "cell_type": "markdown",
   "metadata": {},
   "source": [
    "##### Author: ESDC team at ESAC"
   ]
  },
  {
   "cell_type": "markdown",
   "metadata": {},
   "source": [
    "The following example illustrates how to retrieve the Carrington movie associated to a specific date and the date before in order to detect the root cause for a jump of pressure, density and/or temperature in the solar wind.\n"
   ]
  },
  {
   "cell_type": "markdown",
   "metadata": {},
   "source": [
    "For this example we will use the method *__query_carrington_movie()__*. This method has the following parameters:\n",
    "\n",
    "- *__input_date__*: Mandatory. The date should be informat of 'yyyy-mm-dd'\n",
    "- *__file_type__*: Optional. Possible values are 'CR' or 'CR_YELLOW'. If no *file_type* is provided then the code will search for both types of files."
   ]
  },
  {
   "cell_type": "markdown",
   "metadata": {},
   "source": [
    "As a first a step we will request and visuale the P2SA carrington movie related with the day of interest."
   ]
  },
  {
   "cell_type": "code",
   "execution_count": null,
   "metadata": {},
   "outputs": [],
   "source": [
    "from esa_p2sa.p2sa_core import ESAP2SA\n",
    "from IPython.display import Video\n",
    "from IPython.display import HTML\n",
    "from base64 import b64encode\n",
    "\n",
    "movie_links = ESAP2SA.query_carrington_movie(input_date=\"2018-07-02\", file_type=\"CR_YELLOW\")\n",
    "\n",
    "# Display Carrington movies returned\n",
    "if len(movie_links) > 0:\n",
    "    i = 0\n",
    "    for link in movie_links:\n",
    "        display( Video(movie_links[i], width=400, height=400))\n",
    "        i = i+1\n",
    "else:\n",
    "    raise ValueError(\"Not found Carrinton Movies for the specified date\")\n"
   ]
  },
  {
   "cell_type": "markdown",
   "metadata": {},
   "source": [
    "As second step we will request the P2SA Carrington movie of the previous day. This will be useful to learn if the selected day falls at the beginning of the carrington cycle"
   ]
  },
  {
   "cell_type": "code",
   "execution_count": null,
   "metadata": {},
   "outputs": [],
   "source": [
    "from esa_p2sa.p2sa_core import ESAP2SA\n",
    "from IPython.display import Video\n",
    "from IPython.display import HTML\n",
    "from base64 import b64encode\n",
    "\n",
    "movie_links = ESAP2SA.query_carrington_movie(input_date=\"2018-07-01\")\n",
    "    \n",
    "# Display Carrington movies returned\n",
    "if len(movie_links) > 0:\n",
    "    i = 0\n",
    "    for link in movie_links:\n",
    "        display( Video(movie_links[i], width=400, height=400))\n",
    "        i = i+1\n",
    "else:\n",
    "    raise ValueError(\"Not found Carrinton Movies for the specified date\")"
   ]
  }
 ],
 "metadata": {
  "kernelspec": {
   "display_name": "Python 3",
   "language": "python",
   "name": "python3"
  },
  "language_info": {
   "codemirror_mode": {
    "name": "ipython",
    "version": 3
   },
   "file_extension": ".py",
   "mimetype": "text/x-python",
   "name": "python",
   "nbconvert_exporter": "python",
   "pygments_lexer": "ipython3",
   "version": "3.7.3"
  }
 },
 "nbformat": 4,
 "nbformat_minor": 2
}
