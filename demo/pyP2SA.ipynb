{
 "cells": [
  {
   "cell_type": "markdown",
   "metadata": {},
   "source": [
    "# Example of how to access Proba-2 data via python"
   ]
  },
  {
   "cell_type": "markdown",
   "metadata": {},
   "source": [
    "##### Author: ESDC team at ESAC"
   ]
  },
  {
   "cell_type": "markdown",
   "metadata": {},
   "source": [
    "This notebook illustrates some examples of how to access P2SA data using the Table Access Protocol (TAP) and the Astronomical Query Language (ADQL) in Python. See [here](http://p2sa.esac.esa.int/p2sa/#aio ) for more information and examples of ADQL queries."
   ]
  },
  {
   "cell_type": "markdown",
   "metadata": {},
   "source": [
    "The documentation for sunPy is available [here](https://docs.sunpy.org/en/stable/)."
   ]
  },
  {
   "cell_type": "markdown",
   "metadata": {},
   "source": [
    "## Examples\n",
    "\n",
    "### 1. BASIC Use\n",
    "#### 1.1 Getting public tables¶\n"
   ]
  },
  {
   "cell_type": "markdown",
   "metadata": {},
   "source": [
    "This example illustrates how to download only public P2SA table names by using TAP+ capability. "
   ]
  },
  {
   "cell_type": "code",
   "execution_count": null,
   "metadata": {
    "scrolled": true
   },
   "outputs": [],
   "source": [
    "# Import TapPlus capability (Not available yet in SunPy)\n",
    "from astroquery.utils.tap.core import TapPlus\n",
    "\n",
    "p2sa = TapPlus(url=TAP_URL)\n",
    "tables = p2sa.load_tables(only_names=True)\n",
    "for table in (tables):\n",
    "    print(table.get_qualified_name())"
   ]
  },
  {
   "cell_type": "raw",
   "metadata": {},
   "source": [
    "Next one illustrates the same use case but this tie using TAP capability to load only the table names"
   ]
  },
  {
   "cell_type": "code",
   "execution_count": null,
   "metadata": {
    "scrolled": true
   },
   "outputs": [],
   "source": [
    "from astroquery.utils.tap.core import TapPlus\n",
    "\n",
    "p2sa = TapPlus(url=TAP_URL)\n",
    "tables = p2sa.load_tables()\n",
    "for table in (tables):\n",
    "    print(table.get_qualified_name())"
   ]
  },
  {
   "cell_type": "markdown",
   "metadata": {},
   "source": [
    "To load only a table (TAP+ capability)\n"
   ]
  },
  {
   "cell_type": "code",
   "execution_count": null,
   "metadata": {
    "scrolled": true
   },
   "outputs": [],
   "source": [
    "from astroquery.utils.tap.core import TapPlus\n",
    "\n",
    "p2sa = TapPlus(url=TAP_URL)\n",
    "table = p2sa.load_table('p2sa.v_observation');\n",
    "print(table);\n"
   ]
  },
  {
   "cell_type": "markdown",
   "metadata": {},
   "source": [
    "Once a table is loaded, columns can be inspected"
   ]
  },
  {
   "cell_type": "code",
   "execution_count": null,
   "metadata": {},
   "outputs": [],
   "source": [
    "from astroquery.utils.tap.core import TapPlus\n",
    "\n",
    "p2sa = TapPlus(url=TAP_URL)\n",
    "table = p2sa.load_table('p2sa.v_observation');\n",
    "for column in (table.columns):\n",
    "        print(column.name);"
   ]
  },
  {
   "cell_type": "markdown",
   "metadata": {},
   "source": [
    "#### 1.2. Synchronous query"
   ]
  },
  {
   "cell_type": "markdown",
   "metadata": {},
   "source": [
    "A synchronous query will not store the results at server side. These queries must be used when the amount of data to be retrieved is 'small'.\n",
    "\n",
    "The results can be saved in memory (default) or in a file. \n",
    "\n",
    "Here is an example of query without saving results in memory:"
   ]
  },
  {
   "cell_type": "code",
   "execution_count": null,
   "metadata": {},
   "outputs": [],
   "source": [
    "from astroquery.utils.tap.core import TapPlus\n",
    "\n",
    "p2sa = TapPlus(url=TAP_URL)\n",
    "\n",
    "job = p2sa.launch_job(\"select top 100 begin_date, calibrated, \\\n",
    "                       end_date, file_format, file_name, file_path, file_size, \\\n",
    "                       instrument_oid, observation_oid, observation_type, \\\n",
    "                       processing_level, science_objective, science_object_oid, wavelength_range \\\n",
    "                       from p2sa.observation\")\n",
    "print(job)"
   ]
  },
  {
   "cell_type": "code",
   "execution_count": null,
   "metadata": {},
   "outputs": [],
   "source": [
    "r = job.get_results()\n",
    "print(r['file_name'])"
   ]
  },
  {
   "cell_type": "markdown",
   "metadata": {},
   "source": [
    "Query saving results in a file:"
   ]
  },
  {
   "cell_type": "code",
   "execution_count": null,
   "metadata": {},
   "outputs": [],
   "source": [
    "from astroquery.utils.tap.core import TapPlus\n",
    "\n",
    "p2sa = TapPlus(url=TAP_URL)\n",
    "\n",
    "job = p2sa.launch_job(\"select top 100 begin_date, calibrated, \\\n",
    "                       end_date, file_format, file_name, file_path, file_size, \\\n",
    "                       instrument_oid, observation_oid, observation_type, \\\n",
    "                       processing_level, science_objective, science_object_oid, wavelength_range \\\n",
    "                       from p2sa.observation\", dump_to_file=True)\n",
    "print(job)"
   ]
  },
  {
   "cell_type": "code",
   "execution_count": null,
   "metadata": {
    "scrolled": true
   },
   "outputs": [],
   "source": [
    "r = job.get_results()\n",
    "print(r['file_name'])\n"
   ]
  },
  {
   "cell_type": "markdown",
   "metadata": {},
   "source": [
    "#### 1.3. Asynchronous query"
   ]
  },
  {
   "cell_type": "markdown",
   "metadata": {},
   "source": [
    "Asynchronous queries save results at the server side. These queries can be accessed at any time.\n",
    "The results can be saved in memory (default) or in a file. Here is an example of query without saving results in memory:"
   ]
  },
  {
   "cell_type": "code",
   "execution_count": null,
   "metadata": {},
   "outputs": [],
   "source": [
    "from astroquery.utils.tap.core import TapPlus\n",
    "\n",
    "p2sa = TapPlus(url=TAP_URL)\n",
    "\n",
    "job = p2sa.launch_job_async(\"select top 100 begin_date, calibrated, \\\n",
    "                       end_date, file_format, file_name, file_path, file_size, \\\n",
    "                       instrument_oid, observation_oid, observation_type, \\\n",
    "                       processing_level, science_objective, science_object_oid, wavelength_range \\\n",
    "                       from p2sa.observation\")\n",
    "print(job)"
   ]
  },
  {
   "cell_type": "markdown",
   "metadata": {},
   "source": [
    "#### 1.4. Asynchronous job removal"
   ]
  },
  {
   "cell_type": "raw",
   "metadata": {},
   "source": [
    "The following is an example of how to remove asynchronous jobs."
   ]
  },
  {
   "cell_type": "code",
   "execution_count": null,
   "metadata": {},
   "outputs": [],
   "source": [
    "from astroquery.utils.tap.core import TapPlus\n",
    "\n",
    "p2sa = TapPlus(url=TAP_URL)\n",
    "\n",
    "job = p2sa.remove_jobs(\"1586707834624OPER\")\n"
   ]
  },
  {
   "cell_type": "markdown",
   "metadata": {},
   "source": [
    "### 2. P2SA Use Cases:"
   ]
  },
  {
   "cell_type": "markdown",
   "metadata": {},
   "source": [
    "#### 2.1 Quering P2SA Metadata - Basic Search"
   ]
  },
  {
   "cell_type": "markdown",
   "metadata": {},
   "source": [
    "##### Example 1:"
   ]
  },
  {
   "cell_type": "markdown",
   "metadata": {},
   "source": [
    "This first example shows an abreviated way to display the P2SA observations available for the given interval and the list of instruments provided. For this example, we will retrieve all the observations made with the instruments \"SWAP\" and \"LYRA\" from the 6th to the 8th of May, 2015.\n",
    "The result will be a file in 'votable' format.\n",
    "\n",
    "For this example we will use the method __ESAP2SA.query_p2sa_observations()__ which accepts the following parameters:\n",
    "\n",
    "- __*instruments*__: List of with the name of the instruments selected for the example, \"SWAP\" and \"LYRA\". Optional\n",
    "- __*to_date*__: String with format (yyyy-mm-dd 00:00:00). Optional\n",
    "- __*from_date*__: String with format (yyyy-mm-dd 00:00:00). Optional\n",
    "- __*output_format*__: This can be 'csv', 'votable_plain', 'votable'. Default Votable. Optional\n",
    "- __*filename*__: File name to be used to store the metadata. Default Nonte. Optional.\n",
    "- __*verbose*__: Boolean. Flag to display information about the process. Default False. Optional"
   ]
  },
  {
   "cell_type": "code",
   "execution_count": null,
   "metadata": {
    "scrolled": false
   },
   "outputs": [],
   "source": [
    "from esa_p2sa.p2sa_core import ESAP2SA\n",
    "\n",
    "instrument_list = [\"SWAP\", \"LYRA\"]\n",
    "\n",
    "ESAP2SA.query_p2sa_observations(instruments=instrument_list, to_date=\"2015-05-08 00:00:00\", from_date=\"2015-05-06 00:00:00\", output_format=\"votable\", filename='p2sa_observations_SWAP_LYRA_May_2015.vot')\n",
    "\n",
    "#RETURN_TYPE can be VOTABLE, CSV or JSON"
   ]
  },
  {
   "cell_type": "markdown",
   "metadata": {},
   "source": [
    "##### Example 2:"
   ]
  },
  {
   "cell_type": "markdown",
   "metadata": {},
   "source": [
    "For this method \"__query_p2sa_observations()__\" is not mandatory to provide values for all the parameters. An empty parameter just means that this value will not be take it into account for the query. \n",
    "\n",
    "In the following example we are going to retrieve observations made with the instrument \"SWAP\" since the 1st of June, 2017 until now. \n",
    "\n",
    "The result will be a file in 'votable' format."
   ]
  },
  {
   "cell_type": "code",
   "execution_count": null,
   "metadata": {},
   "outputs": [],
   "source": [
    "from esa_p2sa.p2sa_core import ESAP2SA\n",
    "\n",
    "instrument_list = [\"SWAP\"]\n",
    "\n",
    "ESAP2SA.query_p2sa_observations(instruments=instrument_list, to_date=\"\", from_date=\"2017-06-01 00:00:00\",output_format=\"votable\", filename='p2sa_observations_swap.vot')\n",
    "\n",
    "#RETURN_TYPE can be VOTABLE, CSV or JSON"
   ]
  },
  {
   "cell_type": "markdown",
   "metadata": {},
   "source": [
    "##### 2.2 Quering P2SA Metadata - Advanced Search"
   ]
  },
  {
   "cell_type": "markdown",
   "metadata": {},
   "source": [
    "The example belows show a simple ADQL request to get the p2sa observations made from the 7th of January, 2017 and the 15th of January, 2017 with the instrument 'SWAP'. The result metadata will be download into CSV file called 'metadata.csv'.\n"
   ]
  },
  {
   "cell_type": "markdown",
   "metadata": {},
   "source": [
    "For this example we will use the method __ESAP2SA.query_p2sa_tap()__ which accepts the following parameters:\n",
    "\n",
    "- __*query*__: String with the request in ADQL format. Mandatory.\n",
    "- __*output_format*__: This can be 'csv', 'votable_plain', 'votable'. Default Votable. Optional\n",
    "- __*output_file*__: File name to be used to store the metadata. Default Nonte. Optional.\n",
    "- __*verbose*__: Boolean. Flag to display information about the process. Default False. Optional\n",
    "- __*dump_to_file*__: Boolean. Save results in a file. By default is False. Optional"
   ]
  },
  {
   "cell_type": "code",
   "execution_count": null,
   "metadata": {},
   "outputs": [],
   "source": [
    "from esa_p2sa.p2sa_core import ESAP2SA\n",
    "\n",
    "ESAP2SA.query_p2sa_tap(query=\"select * from p2sa.v_observation obs where ((obs.end_date > '2017-01-07 00:00:00') and (obs.begin_date < '2017-01-15 00:00:00') and (obs.instrument_name = 'SWAP'))\",output_file=\"p2sa_metadata_query.vot\",output_format=\"votable\",verbose=\"False\", dump_to_file=True)"
   ]
  },
  {
   "cell_type": "markdown",
   "metadata": {},
   "source": [
    "##### 2.3 Download P2SA data"
   ]
  },
  {
   "cell_type": "markdown",
   "metadata": {},
   "source": [
    "###### 2.3.1 Download Postcards"
   ]
  },
  {
   "cell_type": "markdown",
   "metadata": {},
   "source": [
    "The following example illustrates how to download a specific postcard from P2SA.\n",
    "The __*ESAP2SA.get_p2sa_postcard()*__ function provides access to the P2SA database using the Table Access Protocol (TAP). This method accepts the following paramenters:\n",
    "\n",
    "- __*observation_oid*__: String with the observation oid number. This number can be obtained as a result of a metadata request. Mandatory.\n",
    "- __*resolution*__: String. Optional\n",
    "- __*verbose*__: Boolean. Flag to display information about the process. Default False. Optional\n",
    "\n",
    "By default, this method downloads the postcard to the current directory but can be displayed by executing the following line \"Image(url=link)\"\n",
    "\n",
    "Here is an example:"
   ]
  },
  {
   "cell_type": "code",
   "execution_count": null,
   "metadata": {},
   "outputs": [],
   "source": [
    "from esa_p2sa.p2sa_core import ESAP2SA\n",
    "\n",
    "from IPython.display import Image\n",
    "link = ESAP2SA.get_p2sa_postcard(observation_oid=\"202592722\",resolution=\"low\",verbose=\"True\")\n",
    "\n",
    "# Display the result postcard.\n",
    "Image(url=link)"
   ]
  },
  {
   "cell_type": "markdown",
   "metadata": {},
   "source": [
    "###### 2.3.2 Display Carrington movie"
   ]
  },
  {
   "cell_type": "markdown",
   "metadata": {},
   "source": [
    "The __*ESAP2SA.get_p2sa_movie()*__ function allows to display SWAP daily movie files as well as SWAP Carrignton movie files. This method needs a *file_oid* as input parameter to download and display the movie. This *file_oid* value can be obtained as a result of a metadata request to P2SA tap. (See method *ESAP2SA.query_p2sa_tap()* in Section 2.2)\n",
    "\n",
    "Here is an example:"
   ]
  },
  {
   "cell_type": "code",
   "execution_count": null,
   "metadata": {},
   "outputs": [],
   "source": [
    "from esa_p2sa.p2sa_core import ESAP2SA\n",
    "from IPython.display import Video\n",
    "link = ESAP2SA.display_p2sa_movie_file(file_oid=\"13785\")\n",
    "\n",
    "# Display the result Carrington movie.\n",
    "Video(link)"
   ]
  },
  {
   "cell_type": "markdown",
   "metadata": {},
   "source": [
    "###### 2.3.3 Download P2SA product"
   ]
  },
  {
   "cell_type": "markdown",
   "metadata": {},
   "source": [
    "The following example illustrates how to download a specific product from P2SA. The __*ESAP2SA.get_p2sa_product()*__ method provides access to the P2SA database using the Table Access Protocol (TAP) and downloads the file required as parameter.\n",
    "\n",
    "This method accepts as parameter a list of strings with the oids of the files to download. Once the request is completed, the files will be downloaded by default to the directory in which this Jupyter Notebook is being executed.\n",
    "\n",
    "The following is an example of use of this method:"
   ]
  },
  {
   "cell_type": "code",
   "execution_count": null,
   "metadata": {},
   "outputs": [],
   "source": [
    "from esa_p2sa.p2sa_core import ESAP2SA\n",
    "import numpy as np\n",
    "\n",
    "#As example create a list with the files we want to download\n",
    "\n",
    "file_oid_list = np.array(['6605', '6606'])\n",
    "print(file_oid_list)\n",
    "\n",
    "ESAP2SA.get_p2sa_product(file_oid_list=file_oid_list)"
   ]
  }
 ],
 "metadata": {
  "anaconda-cloud": {},
  "kernelspec": {
   "display_name": "Python 3",
   "language": "python",
   "name": "python3"
  },
  "language_info": {
   "codemirror_mode": {
    "name": "ipython",
    "version": 3
   },
   "file_extension": ".py",
   "mimetype": "text/x-python",
   "name": "python",
   "nbconvert_exporter": "python",
   "pygments_lexer": "ipython3",
   "version": "3.7.3"
  }
 },
 "nbformat": 4,
 "nbformat_minor": 2
}
